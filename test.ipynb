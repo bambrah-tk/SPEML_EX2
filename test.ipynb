{
 "cells": [
  {
   "cell_type": "code",
   "id": "initial_id",
   "metadata": {
    "collapsed": true,
    "ExecuteTime": {
     "end_time": "2024-07-30T13:17:54.989143Z",
     "start_time": "2024-07-30T13:17:52.002831Z"
    }
   },
   "source": "import torch",
   "outputs": [],
   "execution_count": 1
  },
  {
   "metadata": {
    "ExecuteTime": {
     "end_time": "2024-07-30T13:18:04.448935Z",
     "start_time": "2024-07-30T13:18:04.413025Z"
    }
   },
   "cell_type": "code",
   "source": "torch.cuda.is_available()",
   "id": "945ab602a4feb200",
   "outputs": [
    {
     "data": {
      "text/plain": [
       "True"
      ]
     },
     "execution_count": 2,
     "metadata": {},
     "output_type": "execute_result"
    }
   ],
   "execution_count": 2
  },
  {
   "metadata": {
    "ExecuteTime": {
     "end_time": "2024-07-30T13:18:06.317461Z",
     "start_time": "2024-07-30T13:18:06.311584Z"
    }
   },
   "cell_type": "code",
   "source": "torch.cuda.device_count()",
   "id": "4a9939a47a418ba2",
   "outputs": [
    {
     "data": {
      "text/plain": [
       "1"
      ]
     },
     "execution_count": 3,
     "metadata": {},
     "output_type": "execute_result"
    }
   ],
   "execution_count": 3
  },
  {
   "metadata": {
    "ExecuteTime": {
     "end_time": "2024-07-30T13:18:07.975733Z",
     "start_time": "2024-07-30T13:18:07.965317Z"
    }
   },
   "cell_type": "code",
   "source": "torch.cuda.current_device()",
   "id": "33453c302f955971",
   "outputs": [
    {
     "data": {
      "text/plain": [
       "0"
      ]
     },
     "execution_count": 4,
     "metadata": {},
     "output_type": "execute_result"
    }
   ],
   "execution_count": 4
  },
  {
   "metadata": {
    "ExecuteTime": {
     "end_time": "2024-07-30T13:18:09.413115Z",
     "start_time": "2024-07-30T13:18:09.408777Z"
    }
   },
   "cell_type": "code",
   "source": "torch.cuda.device(0)",
   "id": "c5f68802fadcabe1",
   "outputs": [
    {
     "data": {
      "text/plain": [
       "<torch.cuda.device at 0x124537bbe30>"
      ]
     },
     "execution_count": 5,
     "metadata": {},
     "output_type": "execute_result"
    }
   ],
   "execution_count": 5
  },
  {
   "metadata": {
    "ExecuteTime": {
     "end_time": "2024-07-30T13:18:11.083976Z",
     "start_time": "2024-07-30T13:18:11.079684Z"
    }
   },
   "cell_type": "code",
   "source": "torch.cuda.get_device_name(0)",
   "id": "f312ab5ea54054b",
   "outputs": [
    {
     "data": {
      "text/plain": [
       "'NVIDIA GeForce RTX 2060'"
      ]
     },
     "execution_count": 6,
     "metadata": {},
     "output_type": "execute_result"
    }
   ],
   "execution_count": 6
  },
  {
   "metadata": {},
   "cell_type": "code",
   "outputs": [],
   "execution_count": null,
   "source": "",
   "id": "78da4943a1da0a66"
  }
 ],
 "metadata": {
  "kernelspec": {
   "display_name": "Python 3",
   "language": "python",
   "name": "python3"
  },
  "language_info": {
   "codemirror_mode": {
    "name": "ipython",
    "version": 2
   },
   "file_extension": ".py",
   "mimetype": "text/x-python",
   "name": "python",
   "nbconvert_exporter": "python",
   "pygments_lexer": "ipython2",
   "version": "2.7.6"
  }
 },
 "nbformat": 4,
 "nbformat_minor": 5
}
